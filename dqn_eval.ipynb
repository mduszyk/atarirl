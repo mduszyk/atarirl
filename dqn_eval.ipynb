{
 "cells": [
  {
   "cell_type": "code",
   "id": "initial_id",
   "metadata": {
    "collapsed": true,
    "ExecuteTime": {
     "end_time": "2025-02-05T17:53:43.326165Z",
     "start_time": "2025-02-05T17:53:41.364296Z"
    }
   },
   "source": [
    "from functools import partial\n",
    "\n",
    "import numpy as np\n",
    "import ale_py\n",
    "import mlflow\n",
    "import gymnasium as gym\n",
    "import torch\n",
    "from tqdm import tqdm\n",
    "\n",
    "from preprocess import PreprocessWrapper\n",
    "from params import load_params\n",
    "from dqn_eval import dqn_agent, play"
   ],
   "outputs": [],
   "execution_count": 1
  },
  {
   "metadata": {
    "ExecuteTime": {
     "end_time": "2025-02-05T17:53:43.427725Z",
     "start_time": "2025-02-05T17:53:43.335354Z"
    }
   },
   "cell_type": "code",
   "source": [
    "params = load_params('dqn_train.toml', profile='double-dqn-tuned-adam')\n",
    "device = 'cuda' if torch.cuda.is_available() else 'cpu'\n",
    "print('device:', device)\n",
    "gym.register_envs(ale_py)\n",
    "env = gym.make(params.gym_env_id, render_mode=\"rgb_array\", frameskip=1, repeat_action_probability=0)\n",
    "env = PreprocessWrapper(env, params.skip_frames, device, processed_only=False)\n",
    "num_actions = env.action_space.n"
   ],
   "id": "abf11f63a8a0a608",
   "outputs": [
    {
     "name": "stdout",
     "output_type": "stream",
     "text": [
      "device: cpu\n"
     ]
    },
    {
     "name": "stderr",
     "output_type": "stream",
     "text": [
      "A.L.E: Arcade Learning Environment (version 0.10.1+unknown)\n",
      "[Powered by Stella]\n"
     ]
    }
   ],
   "execution_count": 2
  },
  {
   "metadata": {
    "ExecuteTime": {
     "end_time": "2025-02-05T17:53:43.484949Z",
     "start_time": "2025-02-05T17:53:43.482994Z"
    }
   },
   "cell_type": "code",
   "source": [
    "def eval_model(uri, n=30):\n",
    "    q0 = mlflow.pytorch.load_model(uri, map_location=device)\n",
    "    q0.eval()\n",
    "    agent = partial(dqn_agent, q0=q0, num_actions=num_actions, eps=params.eps_eval)\n",
    "    scores = []\n",
    "    for _ in tqdm(range(n)):\n",
    "        scores.append(play(env, agent, params))\n",
    "    return np.mean(scores), np.std(scores)"
   ],
   "id": "a9a665d905c2a41b",
   "outputs": [],
   "execution_count": 3
  },
  {
   "metadata": {
    "ExecuteTime": {
     "end_time": "2025-02-05T17:57:23.002974Z",
     "start_time": "2025-02-05T17:53:43.537330Z"
    }
   },
   "cell_type": "code",
   "source": [
    "uris = [\n",
    "    'runs:/8d3c31e65a3240eda1e0e92890057f46/q0_episode_10000',\n",
    "    'runs:/8d3c31e65a3240eda1e0e92890057f46/q0_episode_15000',\n",
    "    'runs:/8d3c31e65a3240eda1e0e92890057f46/q0_episode_22000',\n",
    "]\n",
    "for uri in uris:\n",
    "    print(uri)\n",
    "    print(eval_model(uri))"
   ],
   "id": "92cb13b73223ac6a",
   "outputs": [
    {
     "name": "stdout",
     "output_type": "stream",
     "text": [
      "runs:/8d3c31e65a3240eda1e0e92890057f46/q0_episode_10000\n"
     ]
    },
    {
     "name": "stderr",
     "output_type": "stream",
     "text": [
      "100%|██████████| 30/30 [01:08<00:00,  2.28s/it]\n"
     ]
    },
    {
     "name": "stdout",
     "output_type": "stream",
     "text": [
      "(35.96666666666667, 3.459126415087421)\n",
      "runs:/8d3c31e65a3240eda1e0e92890057f46/q0_episode_15000\n"
     ]
    },
    {
     "name": "stderr",
     "output_type": "stream",
     "text": [
      "100%|██████████| 30/30 [01:18<00:00,  2.62s/it]\n"
     ]
    },
    {
     "name": "stdout",
     "output_type": "stream",
     "text": [
      "(266.6333333333333, 34.07979199206213)\n",
      "runs:/8d3c31e65a3240eda1e0e92890057f46/q0_episode_22000\n"
     ]
    },
    {
     "name": "stderr",
     "output_type": "stream",
     "text": [
      "100%|██████████| 30/30 [01:12<00:00,  2.41s/it]"
     ]
    },
    {
     "name": "stdout",
     "output_type": "stream",
     "text": [
      "(337.76666666666665, 86.6805181238681)\n"
     ]
    },
    {
     "name": "stderr",
     "output_type": "stream",
     "text": [
      "\n"
     ]
    }
   ],
   "execution_count": 4
  }
 ],
 "metadata": {
  "kernelspec": {
   "display_name": "Python 3",
   "language": "python",
   "name": "python3"
  },
  "language_info": {
   "codemirror_mode": {
    "name": "ipython",
    "version": 2
   },
   "file_extension": ".py",
   "mimetype": "text/x-python",
   "name": "python",
   "nbconvert_exporter": "python",
   "pygments_lexer": "ipython2",
   "version": "2.7.6"
  }
 },
 "nbformat": 4,
 "nbformat_minor": 5
}
